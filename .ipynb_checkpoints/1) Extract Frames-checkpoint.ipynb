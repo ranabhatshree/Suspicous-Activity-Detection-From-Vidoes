{
 "cells": [
  {
   "cell_type": "code",
   "execution_count": 2,
   "metadata": {},
   "outputs": [],
   "source": [
    "import cv2\n",
    "import matplotlib.pyplot as plt\n",
    "%matplotlib inline\n",
    "import os"
   ]
  },
  {
   "cell_type": "code",
   "execution_count": 3,
   "metadata": {},
   "outputs": [],
   "source": [
    "def create_directory(dir_name):\n",
    "    if not os.path.exists(dir_name):\n",
    "        os.makedirs(dir_name)"
   ]
  },
  {
   "cell_type": "code",
   "execution_count": 4,
   "metadata": {},
   "outputs": [],
   "source": [
    "def get_frames(pathIn, pathOut):\n",
    "    create_directory(pathOut)\n",
    "    category_name = pathIn.split('/')[1]\n",
    "    create_directory(os.path.join(pathOut, category_name))\n",
    "    file_name = pathIn.split('/')[2]\n",
    "    cap= cv2.VideoCapture(pathIn)\n",
    "    i=0\n",
    "    while(cap.isOpened()):\n",
    "        ret, frame = cap.read()\n",
    "        if ret == False:\n",
    "            break\n",
    "        cv2.imwrite(pathOut + \"/{}/{}-{}.jpg\".format(category_name,file_name, i), frame)\n",
    "        i+=1\n",
    "\n",
    "    cap.release()\n",
    "    cv2.destroyAllWindows()"
   ]
  },
  {
   "cell_type": "code",
   "execution_count": 5,
   "metadata": {},
   "outputs": [],
   "source": [
    "# list out all the categories from videos and extract frames\n",
    "\n",
    "pathIn = 'videos'\n",
    "for dir in os.listdir(pathIn):\n",
    "    full_dir = pathIn + \"/\" + dir\n",
    "    for file in os.listdir(full_dir):\n",
    "        full_file_name = full_dir + \"/\" + file \n",
    "        get_frames(full_file_name, 'frames')\n",
    "        "
   ]
  },
  {
   "cell_type": "code",
   "execution_count": null,
   "metadata": {},
   "outputs": [],
   "source": []
  }
 ],
 "metadata": {
  "kernelspec": {
   "display_name": "Python 3",
   "language": "python",
   "name": "python3"
  },
  "language_info": {
   "codemirror_mode": {
    "name": "ipython",
    "version": 3
   },
   "file_extension": ".py",
   "mimetype": "text/x-python",
   "name": "python",
   "nbconvert_exporter": "python",
   "pygments_lexer": "ipython3",
   "version": "3.7.6"
  }
 },
 "nbformat": 4,
 "nbformat_minor": 4
}
